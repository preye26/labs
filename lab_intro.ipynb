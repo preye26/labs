{
 "cells": [
  {
   "cell_type": "markdown",
   "metadata": {},
   "source": [
    "# Welcome to a Jupyter Notebook!\n",
    "\n",
    "You are in your very first Jupyter Notebook for Data Science DISCOVERY!  Notebooks allow us to combine text (like what you're reading now) with Python code. Just like learning a new spoken language, you won't learn programming languages without practice -- labs are an important part of the course to allow you to practice!\n",
    "\n",
    "**You are not alone on your journey in learning programming!**  You have your lab Teaching Assistant (\"TA\"), your Course Assistants (\"CAs\"), your lab group, and the professors (Prof. Wade and Prof. Karle) who are all here to help you out!\n",
    "\n",
    "- If you find yourself stuck for more than a few minutes, ask a neighbor or course staff for help!  When you are giving help to your neighbor, explain the **idea and approach** to the problem without sharing the answer itself so they can have the same **<i>ah-hah</i>** moment!\n",
    "\n",
    "- We are here to help you! Don't feel embarrassed or shy to ask us for help!\n",
    "\n",
    "Let's get started!\n"
   ]
  },
  {
   "cell_type": "markdown",
   "metadata": {},
   "source": [
    "<hr style=\"color: #DD3403;\">"
   ]
  },
  {
   "cell_type": "markdown",
   "metadata": {},
   "source": [
    "# Part 1: Introduction to a Python Notebook\n",
    "\n",
    "Every single computer is slightly different and everything has to be configured **exactly right** for Python to run.  The good news is that you only have to do your computer setup once and most of the time it just works the first time.\n",
    "\n",
    "In this part of the lab, you will learn about the notebook environment and run your first Python code.\n"
   ]
  },
  {
   "cell_type": "markdown",
   "metadata": {},
   "source": [
    "\n",
    "## Types of Cells\n",
    "\n",
    "Jupyter notebooks are organized into rectangular **cells**.  Every **cell** will either be one of the following:\n",
    "\n",
    "1. A **Markdown cell**, which contains text instructions (like the cell you are reading now).  **Markdown cells** will have formatted text and will have a solid background (usually solid black or white, depending on your color settings).\n",
    "2. A **Python cell**, which contains Python code.  **Python cells** (which you will see shortly) will have a gray background and colored text."
   ]
  },
  {
   "cell_type": "markdown",
   "metadata": {},
   "source": [
    "## Editing Cells\n",
    "\n",
    "Every cell can be edited by **double clicking on the cell**.\n",
    "\n",
    "- Double click on this cell right now!\n",
    "- Edit the end of this line and add your name: ➡️ Perla ⬅️\n",
    "\n",
    "Once you are finishing editing:\n",
    "\n",
    "- Press **CTRL + ENTER** to exit editing and \"run\" the cell.\n",
    "- Press **CTRL + ALT + ENTER** to \"run\" the cell without exiting.\n",
    "- Press **SHIFT + ENTER** to exit editing, \"run\" the cell, AND advance to the next cell.\n",
    "- (Or you can also press `▶` on the left side of the cell -- this does the same as **CTRL + ALT + ENTER**.)\n",
    "\n",
    "\"Running\" a Markdown cell will save it and make it part of your notebook.\n"
   ]
  },
  {
   "cell_type": "markdown",
   "metadata": {},
   "source": [
    "## Python Cells\n",
    "\n",
    "Python cells are cells that contain Python code -- the programming language we will use for Data Science DISCOVERY.  When you \"run\" a Python cell, you will run your snippet of code!\n",
    "\n",
    "Python is a programming language that was designed to be easy and simple to use, and notebooks make it even easier to use.  The most basic operations that a computer can do are simple math.\n",
    "\n",
    "The next cell is your first Python cell, where we already asked the computer to compute `5 + 4`:"
   ]
  },
  {
   "cell_type": "code",
   "execution_count": 1,
   "metadata": {},
   "outputs": [
    {
     "data": {
      "text/plain": [
       "9"
      ]
     },
     "execution_count": 1,
     "metadata": {},
     "output_type": "execute_result"
    }
   ],
   "source": [
    "5 + 4"
   ]
  },
  {
   "cell_type": "markdown",
   "metadata": {},
   "source": [
    "### Verify Your Notebook Works\n",
    "\n",
    "If Python is completely set up correctly, you should see a green check mark `✓` **AND** the result `9`.\n",
    "\n",
    "- You may get a message saying: `Running cells with 'Python 3.11.3 64-bit' requires ipykernel package.` (or similar).  Click `Install` and try again.\n",
    "\n",
    "- If this keeps happening, or you get other error messages **READ THE TEXT BELOW THE CELL**.  You may have a command you need to run in the terminal.  *(To bring up the terminal, click \"Terminal -> New Terminal\" at the top of VS Code.)*\n",
    "\n",
    "- If you're confused, **ask us for help!**  It is the **most important thing that you get Python running**."
   ]
  },
  {
   "cell_type": "markdown",
   "metadata": {},
   "source": [
    "### Verify you are using Python v3 (not v2)\n",
    "\n",
    "You need Python 3.7 (or higher) for DISCOVERY.  This line of code only runs in Python 3.7 or higher and will also print out `9`.\n"
   ]
  },
  {
   "cell_type": "code",
   "execution_count": 3,
   "metadata": {},
   "outputs": [
    {
     "name": "stdout",
     "output_type": "stream",
     "text": [
      "9\n"
     ]
    }
   ],
   "source": [
    "print(f\"{5 + 4}\")"
   ]
  },
  {
   "cell_type": "markdown",
   "metadata": {},
   "source": [
    "If you have another green check mark `✓` **AND** the result `9`, you're completely ready to go! 🎉\n",
    "\n",
    "- If the earlier Python code works, but this cell does not, then you're using a Python version that is too old.  Make sure you're running with Python 3.7 or later.\n",
    "\n",
    "- You can check in the **top-right** corner which Python version you're currently using.  You can click on it to change to a different version you have installed.\n"
   ]
  },
  {
   "cell_type": "markdown",
   "metadata": {},
   "source": [
    "## Importing Libraries\n",
    "\n",
    "Sometimes, you'll need to import specific Python libraries in order to do different things in Python! This semester, we will be using a library called \"pandas\" in almost every lab. You installed pandas in `lab_prerequisite` but now we want to make sure it worked. \n",
    "\n",
    "Run the cell below and if you see a table of data - it worked! If you get an error, it looks like the installation you did in `lab_prerequisite` did not work! Please see your TA to help if this is the case. "
   ]
  },
  {
   "cell_type": "code",
   "execution_count": 4,
   "metadata": {},
   "outputs": [
    {
     "data": {
      "text/html": [
       "<div>\n",
       "<style scoped>\n",
       "    .dataframe tbody tr th:only-of-type {\n",
       "        vertical-align: middle;\n",
       "    }\n",
       "\n",
       "    .dataframe tbody tr th {\n",
       "        vertical-align: top;\n",
       "    }\n",
       "\n",
       "    .dataframe thead th {\n",
       "        text-align: right;\n",
       "    }\n",
       "</style>\n",
       "<table border=\"1\" class=\"dataframe\">\n",
       "  <thead>\n",
       "    <tr style=\"text-align: right;\">\n",
       "      <th></th>\n",
       "      <th>Year</th>\n",
       "      <th>Term</th>\n",
       "      <th>YearTerm</th>\n",
       "      <th>Subject</th>\n",
       "      <th>Number</th>\n",
       "      <th>Course Title</th>\n",
       "      <th>Sched Type</th>\n",
       "      <th>A+</th>\n",
       "      <th>A</th>\n",
       "      <th>A-</th>\n",
       "      <th>...</th>\n",
       "      <th>C+</th>\n",
       "      <th>C</th>\n",
       "      <th>C-</th>\n",
       "      <th>D+</th>\n",
       "      <th>D</th>\n",
       "      <th>D-</th>\n",
       "      <th>F</th>\n",
       "      <th>W</th>\n",
       "      <th>Primary Instructor</th>\n",
       "      <th>Students</th>\n",
       "    </tr>\n",
       "  </thead>\n",
       "  <tbody>\n",
       "    <tr>\n",
       "      <th>0</th>\n",
       "      <td>2024</td>\n",
       "      <td>Winter</td>\n",
       "      <td>2024-wi</td>\n",
       "      <td>ADV</td>\n",
       "      <td>150</td>\n",
       "      <td>Introduction to Advertising</td>\n",
       "      <td>ONL</td>\n",
       "      <td>22</td>\n",
       "      <td>18</td>\n",
       "      <td>1</td>\n",
       "      <td>...</td>\n",
       "      <td>0</td>\n",
       "      <td>0</td>\n",
       "      <td>0</td>\n",
       "      <td>0</td>\n",
       "      <td>0</td>\n",
       "      <td>0</td>\n",
       "      <td>0</td>\n",
       "      <td>0</td>\n",
       "      <td>Hall, Steven R</td>\n",
       "      <td>42</td>\n",
       "    </tr>\n",
       "    <tr>\n",
       "      <th>1</th>\n",
       "      <td>2024</td>\n",
       "      <td>Winter</td>\n",
       "      <td>2024-wi</td>\n",
       "      <td>AFRO</td>\n",
       "      <td>100</td>\n",
       "      <td>Intro to African American St</td>\n",
       "      <td>ONL</td>\n",
       "      <td>5</td>\n",
       "      <td>8</td>\n",
       "      <td>6</td>\n",
       "      <td>...</td>\n",
       "      <td>0</td>\n",
       "      <td>1</td>\n",
       "      <td>1</td>\n",
       "      <td>0</td>\n",
       "      <td>0</td>\n",
       "      <td>0</td>\n",
       "      <td>1</td>\n",
       "      <td>0</td>\n",
       "      <td>McMillion, Desiree Y</td>\n",
       "      <td>25</td>\n",
       "    </tr>\n",
       "    <tr>\n",
       "      <th>2</th>\n",
       "      <td>2024</td>\n",
       "      <td>Winter</td>\n",
       "      <td>2024-wi</td>\n",
       "      <td>ASTR</td>\n",
       "      <td>330</td>\n",
       "      <td>Extraterrestrial Life</td>\n",
       "      <td>ONL</td>\n",
       "      <td>1</td>\n",
       "      <td>16</td>\n",
       "      <td>8</td>\n",
       "      <td>...</td>\n",
       "      <td>1</td>\n",
       "      <td>0</td>\n",
       "      <td>2</td>\n",
       "      <td>0</td>\n",
       "      <td>1</td>\n",
       "      <td>0</td>\n",
       "      <td>0</td>\n",
       "      <td>0</td>\n",
       "      <td>Dunne, Bryan C</td>\n",
       "      <td>37</td>\n",
       "    </tr>\n",
       "    <tr>\n",
       "      <th>3</th>\n",
       "      <td>2024</td>\n",
       "      <td>Winter</td>\n",
       "      <td>2024-wi</td>\n",
       "      <td>ATMS</td>\n",
       "      <td>120</td>\n",
       "      <td>Severe and Hazardous Weather</td>\n",
       "      <td>ONL</td>\n",
       "      <td>3</td>\n",
       "      <td>16</td>\n",
       "      <td>3</td>\n",
       "      <td>...</td>\n",
       "      <td>2</td>\n",
       "      <td>2</td>\n",
       "      <td>1</td>\n",
       "      <td>1</td>\n",
       "      <td>1</td>\n",
       "      <td>1</td>\n",
       "      <td>2</td>\n",
       "      <td>0</td>\n",
       "      <td>Choate, Jessica J</td>\n",
       "      <td>46</td>\n",
       "    </tr>\n",
       "    <tr>\n",
       "      <th>4</th>\n",
       "      <td>2024</td>\n",
       "      <td>Winter</td>\n",
       "      <td>2024-wi</td>\n",
       "      <td>BADM</td>\n",
       "      <td>275</td>\n",
       "      <td>Operations Management</td>\n",
       "      <td>ONL</td>\n",
       "      <td>0</td>\n",
       "      <td>49</td>\n",
       "      <td>17</td>\n",
       "      <td>...</td>\n",
       "      <td>2</td>\n",
       "      <td>3</td>\n",
       "      <td>0</td>\n",
       "      <td>0</td>\n",
       "      <td>0</td>\n",
       "      <td>0</td>\n",
       "      <td>0</td>\n",
       "      <td>0</td>\n",
       "      <td>Hu, Junqi</td>\n",
       "      <td>81</td>\n",
       "    </tr>\n",
       "    <tr>\n",
       "      <th>...</th>\n",
       "      <td>...</td>\n",
       "      <td>...</td>\n",
       "      <td>...</td>\n",
       "      <td>...</td>\n",
       "      <td>...</td>\n",
       "      <td>...</td>\n",
       "      <td>...</td>\n",
       "      <td>...</td>\n",
       "      <td>...</td>\n",
       "      <td>...</td>\n",
       "      <td>...</td>\n",
       "      <td>...</td>\n",
       "      <td>...</td>\n",
       "      <td>...</td>\n",
       "      <td>...</td>\n",
       "      <td>...</td>\n",
       "      <td>...</td>\n",
       "      <td>...</td>\n",
       "      <td>...</td>\n",
       "      <td>...</td>\n",
       "      <td>...</td>\n",
       "    </tr>\n",
       "    <tr>\n",
       "      <th>69107</th>\n",
       "      <td>2010</td>\n",
       "      <td>Summer</td>\n",
       "      <td>2010-su</td>\n",
       "      <td>STAT</td>\n",
       "      <td>410</td>\n",
       "      <td>Statistics and Probability II</td>\n",
       "      <td>LEC</td>\n",
       "      <td>5</td>\n",
       "      <td>10</td>\n",
       "      <td>2</td>\n",
       "      <td>...</td>\n",
       "      <td>0</td>\n",
       "      <td>1</td>\n",
       "      <td>3</td>\n",
       "      <td>0</td>\n",
       "      <td>0</td>\n",
       "      <td>0</td>\n",
       "      <td>2</td>\n",
       "      <td>1</td>\n",
       "      <td>Stepanov, Alexei G</td>\n",
       "      <td>31</td>\n",
       "    </tr>\n",
       "    <tr>\n",
       "      <th>69108</th>\n",
       "      <td>2010</td>\n",
       "      <td>Summer</td>\n",
       "      <td>2010-su</td>\n",
       "      <td>STAT</td>\n",
       "      <td>440</td>\n",
       "      <td>Statistical Data Management</td>\n",
       "      <td>LEC</td>\n",
       "      <td>4</td>\n",
       "      <td>12</td>\n",
       "      <td>8</td>\n",
       "      <td>...</td>\n",
       "      <td>0</td>\n",
       "      <td>0</td>\n",
       "      <td>0</td>\n",
       "      <td>0</td>\n",
       "      <td>0</td>\n",
       "      <td>0</td>\n",
       "      <td>0</td>\n",
       "      <td>0</td>\n",
       "      <td>Unger, David</td>\n",
       "      <td>28</td>\n",
       "    </tr>\n",
       "    <tr>\n",
       "      <th>69109</th>\n",
       "      <td>2010</td>\n",
       "      <td>Summer</td>\n",
       "      <td>2010-su</td>\n",
       "      <td>TAM</td>\n",
       "      <td>212</td>\n",
       "      <td>Introductory Dynamics</td>\n",
       "      <td>LEC</td>\n",
       "      <td>0</td>\n",
       "      <td>1</td>\n",
       "      <td>3</td>\n",
       "      <td>...</td>\n",
       "      <td>5</td>\n",
       "      <td>1</td>\n",
       "      <td>1</td>\n",
       "      <td>0</td>\n",
       "      <td>2</td>\n",
       "      <td>0</td>\n",
       "      <td>1</td>\n",
       "      <td>0</td>\n",
       "      <td>Morgan, William T</td>\n",
       "      <td>28</td>\n",
       "    </tr>\n",
       "    <tr>\n",
       "      <th>69110</th>\n",
       "      <td>2010</td>\n",
       "      <td>Summer</td>\n",
       "      <td>2010-su</td>\n",
       "      <td>TAM</td>\n",
       "      <td>251</td>\n",
       "      <td>Introductory Solid Mechanics</td>\n",
       "      <td>LCD</td>\n",
       "      <td>1</td>\n",
       "      <td>2</td>\n",
       "      <td>2</td>\n",
       "      <td>...</td>\n",
       "      <td>3</td>\n",
       "      <td>3</td>\n",
       "      <td>2</td>\n",
       "      <td>0</td>\n",
       "      <td>0</td>\n",
       "      <td>1</td>\n",
       "      <td>1</td>\n",
       "      <td>0</td>\n",
       "      <td>Ott-Monsivais, Stephanie</td>\n",
       "      <td>21</td>\n",
       "    </tr>\n",
       "    <tr>\n",
       "      <th>69111</th>\n",
       "      <td>2010</td>\n",
       "      <td>Summer</td>\n",
       "      <td>2010-su</td>\n",
       "      <td>TAM</td>\n",
       "      <td>335</td>\n",
       "      <td>Introductory Fluid Mechanics</td>\n",
       "      <td>LEC</td>\n",
       "      <td>5</td>\n",
       "      <td>8</td>\n",
       "      <td>9</td>\n",
       "      <td>...</td>\n",
       "      <td>0</td>\n",
       "      <td>4</td>\n",
       "      <td>0</td>\n",
       "      <td>0</td>\n",
       "      <td>1</td>\n",
       "      <td>0</td>\n",
       "      <td>2</td>\n",
       "      <td>0</td>\n",
       "      <td>Keane, Richard D</td>\n",
       "      <td>39</td>\n",
       "    </tr>\n",
       "  </tbody>\n",
       "</table>\n",
       "<p>69112 rows × 23 columns</p>\n",
       "</div>"
      ],
      "text/plain": [
       "       Year    Term YearTerm Subject  Number                   Course Title  \\\n",
       "0      2024  Winter  2024-wi     ADV     150    Introduction to Advertising   \n",
       "1      2024  Winter  2024-wi    AFRO     100   Intro to African American St   \n",
       "2      2024  Winter  2024-wi    ASTR     330          Extraterrestrial Life   \n",
       "3      2024  Winter  2024-wi    ATMS     120   Severe and Hazardous Weather   \n",
       "4      2024  Winter  2024-wi    BADM     275          Operations Management   \n",
       "...     ...     ...      ...     ...     ...                            ...   \n",
       "69107  2010  Summer  2010-su    STAT     410  Statistics and Probability II   \n",
       "69108  2010  Summer  2010-su    STAT     440    Statistical Data Management   \n",
       "69109  2010  Summer  2010-su     TAM     212          Introductory Dynamics   \n",
       "69110  2010  Summer  2010-su     TAM     251   Introductory Solid Mechanics   \n",
       "69111  2010  Summer  2010-su     TAM     335   Introductory Fluid Mechanics   \n",
       "\n",
       "      Sched Type  A+   A  A-  ...  C+  C  C-  D+  D  D-  F  W  \\\n",
       "0            ONL  22  18   1  ...   0  0   0   0  0   0  0  0   \n",
       "1            ONL   5   8   6  ...   0  1   1   0  0   0  1  0   \n",
       "2            ONL   1  16   8  ...   1  0   2   0  1   0  0  0   \n",
       "3            ONL   3  16   3  ...   2  2   1   1  1   1  2  0   \n",
       "4            ONL   0  49  17  ...   2  3   0   0  0   0  0  0   \n",
       "...          ...  ..  ..  ..  ...  .. ..  ..  .. ..  .. .. ..   \n",
       "69107        LEC   5  10   2  ...   0  1   3   0  0   0  2  1   \n",
       "69108        LEC   4  12   8  ...   0  0   0   0  0   0  0  0   \n",
       "69109        LEC   0   1   3  ...   5  1   1   0  2   0  1  0   \n",
       "69110        LCD   1   2   2  ...   3  3   2   0  0   1  1  0   \n",
       "69111        LEC   5   8   9  ...   0  4   0   0  1   0  2  0   \n",
       "\n",
       "             Primary Instructor  Students  \n",
       "0                Hall, Steven R        42  \n",
       "1          McMillion, Desiree Y        25  \n",
       "2                Dunne, Bryan C        37  \n",
       "3             Choate, Jessica J        46  \n",
       "4                     Hu, Junqi        81  \n",
       "...                         ...       ...  \n",
       "69107        Stepanov, Alexei G        31  \n",
       "69108              Unger, David        28  \n",
       "69109         Morgan, William T        28  \n",
       "69110  Ott-Monsivais, Stephanie        21  \n",
       "69111          Keane, Richard D        39  \n",
       "\n",
       "[69112 rows x 23 columns]"
      ]
     },
     "execution_count": 4,
     "metadata": {},
     "output_type": "execute_result"
    }
   ],
   "source": [
    "import pandas as pd\n",
    "df=pd.read_csv(\"https://waf.cs.illinois.edu/discovery/gpa.csv\")\n",
    "df"
   ]
  },
  {
   "cell_type": "markdown",
   "metadata": {},
   "source": [
    "<hr style=\"color: #DD3403;\">"
   ]
  },
  {
   "attachments": {},
   "cell_type": "markdown",
   "metadata": {},
   "source": [
    "# Part 2: Programming in Python\n",
    "\n",
    "You now know your lab group!  Most labs will contain **some individual work** and **some group work**.  When you're working on the individual work in lab, you **CAN and SHOULD** talk to your lab group to help each other out.\n",
    "\n",
    "A few tips when you get or give help:\n",
    "\n",
    "- Don't type the answer on their keyboard, let them type it!  We're here to learn Data Science together.\n",
    "- Check in on each other often -- see others are stuck!\n",
    "\n",
    "Remember, TAs and CAs are here for you as well!  In a few cells, you'll need to know your TA and CAs names so you will have to ask them a question today! :)"
   ]
  },
  {
   "cell_type": "markdown",
   "metadata": {},
   "source": [
    "## Form Your Group\n",
    "\n",
    "Your TA should have already placed you in a group with others who have their computer set up.  However, if you have not done so already, **RIGHT NOW** find *(ideally)* two other people.\n",
    "\n",
    "We find **groups of three work the best**, but you can be a group of **two** or a group of **four**.\n",
    "\n",
    "- If you're at a **group of five**, split into a group of two and a group of three.  You can still help each other as a larger group, but the group questions should be answered in your smaller group of 2-4 people.\n",
    "- You cannot be in a \"solo group\" -- if you need help finding a group partner, ask your TA or CAs! :)"
   ]
  },
  {
   "cell_type": "markdown",
   "metadata": {},
   "source": [
    "## Puzzle 2.1:\n",
    "\n",
    "Introduce yourself and meet the others in your group. Find out everyone's name and favorite number.\n",
    "\n",
    "As you're finding this information, **double click the Python in the the following cell** to edit the values of the variable names about your group members:\n",
    "\n",
    "- Make sure to put their names \"inside of quotes\" *(like what we just did)*\n",
    "- Make sure to NOT put their favorite number in quotes\n",
    "\n",
    "We'll teach what those quotes mean later in this lab!"
   ]
  },
  {
   "cell_type": "code",
   "execution_count": 6,
   "metadata": {},
   "outputs": [],
   "source": [
    "# Double click to edit this cell, and then edit the following lines:\n",
    "\n",
    "myName = \"Perla Reyes\"\n",
    "myFavoriteNumber = 17\n",
    "\n",
    "name2 = \"shannon ahn\"\n",
    "favoriteNumber2 = 0\n",
    "\n",
    "name3 = \"Cameron Crawford\"\n",
    "favoriteNumber3 = 12\n",
    "\n",
    "\n",
    "\n",
    "\n",
    "# Find out your CAs' and TA's name, too!\n",
    "taName = \"Michelle Adeline\"\n",
    "taEmail = \"ma169@illinois.edu\"\n",
    "taFavoriteNumber = 777\n",
    "\n",
    "caName1 = \"Jaython\"\n",
    "caFavoriteNumber1 = 7\n",
    "\n",
    "caName2 = \"kylie\"\n",
    "caFavoriteNumber2 = 6"
   ]
  },
  {
   "attachments": {},
   "cell_type": "markdown",
   "metadata": {},
   "source": [
    "## Puzzle 2.2:\n",
    "\n",
    "Let's review just making sure you can run a cell.  Run the following cell (click on it and do **SHIFT + ENTER** or press the `▶` button to the left of the cell) to run the code:"
   ]
  },
  {
   "cell_type": "code",
   "execution_count": 7,
   "metadata": {},
   "outputs": [
    {
     "data": {
      "text/plain": [
       "9"
      ]
     },
     "execution_count": 7,
     "metadata": {},
     "output_type": "execute_result"
    }
   ],
   "source": [
    "5 + 4"
   ]
  },
  {
   "cell_type": "markdown",
   "metadata": {},
   "source": [
    "Take a close look at the Python cell after you run.  Notice above that there are two components to a single Python cell:\n",
    "\n",
    "- The **input** area, which shows the Python code you wrote (ex: `5 + 4` above)\n",
    "- The **output** area, which shows the output from the Python (ex: `9` above, the answer)\n",
    "\n",
    "Let's have you try it! :)"
   ]
  },
  {
   "attachments": {},
   "cell_type": "markdown",
   "metadata": {},
   "source": [
    "## Puzzle 2.3:\n",
    "\n",
    "In the next cell, use Python to compute the sum of **two of your group's favorite numbers**:\n",
    "\n",
    "- Remember that you can use **SHIFT + ENTER** to exit and run the cell."
   ]
  },
  {
   "cell_type": "code",
   "execution_count": 11,
   "metadata": {},
   "outputs": [
    {
     "data": {
      "text/plain": [
       "12"
      ]
     },
     "execution_count": 11,
     "metadata": {},
     "output_type": "execute_result"
    }
   ],
   "source": [
    "12+0"
   ]
  },
  {
   "attachments": {},
   "cell_type": "markdown",
   "metadata": {},
   "source": [
    "## Puzzle 2.4:\n",
    "\n",
    "In the next cell, use Python to compute the quotient (result of division) of the **smallest favorite number divided by the largest favorite number**:\n",
    "- Hint: In Python, the `/` symbol used for division."
   ]
  },
  {
   "cell_type": "code",
   "execution_count": 13,
   "metadata": {},
   "outputs": [
    {
     "data": {
      "text/plain": [
       "0.0"
      ]
     },
     "execution_count": 13,
     "metadata": {},
     "output_type": "execute_result"
    }
   ],
   "source": [
    "0/12"
   ]
  },
  {
   "attachments": {},
   "cell_type": "markdown",
   "metadata": {},
   "source": [
    "Notice: Your result should be a decimal like `0.25`, a non-whole number!  There are two different types of numbers: \n",
    "- **integers** (whole numbers)\n",
    "- **floating point numbers** (numbers with a decimal)\n",
    "\n",
    "Python handles both \"types\" of numbers and you won't need to do anything special to work with decimals. :)"
   ]
  },
  {
   "cell_type": "markdown",
   "metadata": {},
   "source": [
    "### Additional Operations\n",
    "\n",
    "In addition to addition (`+`), subtraction (`-`), multiplication (`*`), and division (`/`), Python can also raise a number to a power (ex: $2^4$).  The syntax to do this in Python is to use `**`.\n",
    "\n",
    "For example, the Python code for $2^4$ is:"
   ]
  },
  {
   "cell_type": "code",
   "execution_count": 9,
   "metadata": {},
   "outputs": [
    {
     "data": {
      "text/plain": [
       "16"
      ]
     },
     "execution_count": 9,
     "metadata": {},
     "output_type": "execute_result"
    }
   ],
   "source": [
    "2 ** 4"
   ]
  },
  {
   "cell_type": "markdown",
   "metadata": {},
   "source": [
    "## Puzzle 2.5: Favorite Numbers to 107\n",
    "\n",
    "For your final puzzle here, work with your group to write an expression that:\n",
    "1. Uses at least two of your group's favorite numbers, **AND**\n",
    "2. At least 2 different operations (`+`, `-`, `/`, `*`, `**`)\n",
    "\n",
    "*(You can use additional numbers and operations, you need to make sure to include at least two favorite numbers and two different operations.)*\n",
    "\n",
    "Write an expression where the output is equal to `107`."
   ]
  },
  {
   "cell_type": "code",
   "execution_count": 18,
   "metadata": {},
   "outputs": [
    {
     "data": {
      "text/plain": [
       "107"
      ]
     },
     "execution_count": 18,
     "metadata": {},
     "output_type": "execute_result"
    }
   ],
   "source": [
    "12*17-97\n"
   ]
  },
  {
   "cell_type": "markdown",
   "metadata": {},
   "source": [
    "<hr style=\"color: #DD3403;\">"
   ]
  },
  {
   "attachments": {},
   "cell_type": "markdown",
   "metadata": {},
   "source": [
    "# Part 3. Print Statements in Python\n",
    "\n",
    "In all of the previous puzzles, the text in the **output** was the result of your Python code.  In a notebook, the notebook will always **automatically print out the  <u>result of the last line</u> of Python code**.\n",
    "\n",
    "Because ONLY the **last line** is automatically printed, what do you expect to happen when the following code is run?\n",
    "\n",
    "*(Make your prediction and run the code.)*"
   ]
  },
  {
   "cell_type": "code",
   "execution_count": 19,
   "metadata": {},
   "outputs": [
    {
     "data": {
      "text/plain": [
       "6"
      ]
     },
     "execution_count": 19,
     "metadata": {},
     "output_type": "execute_result"
    }
   ],
   "source": [
    "10 + 10\n",
    "200 + 200\n",
    "3 + 3"
   ]
  },
  {
   "attachments": {},
   "cell_type": "markdown",
   "metadata": {},
   "source": [
    "## Using the `print` function\n",
    "\n",
    "If you want to print out things that are NOT the result of the last line, Python has a **function** called `print` that will output everything between `(` and `)`.  For example, here's the same example with `print`:"
   ]
  },
  {
   "cell_type": "code",
   "execution_count": 20,
   "metadata": {},
   "outputs": [
    {
     "name": "stdout",
     "output_type": "stream",
     "text": [
      "20\n",
      "400\n",
      "6\n"
     ]
    }
   ],
   "source": [
    "print( 10 + 10 )\n",
    "print( 200 + 200 )\n",
    "print( 3 + 3 )"
   ]
  },
  {
   "attachments": {},
   "cell_type": "markdown",
   "metadata": {},
   "source": [
    "## Using Strings\n",
    "\n",
    "In Python, we often want to print out more than just numbers.  If you want to print words out, Python **REQUIRES** that **strings** are in quotes.  You **MUST** use quotes to use a string! Numbers do not use quotes, only strings do.  One of the most simple functions is a function that prints `\"Hello World\"` (notice the quotes)!\n",
    "\n",
    "The following `print` command welcomes you to DISCOVERY:"
   ]
  },
  {
   "cell_type": "code",
   "execution_count": 21,
   "metadata": {},
   "outputs": [
    {
     "name": "stdout",
     "output_type": "stream",
     "text": [
      "Welcome to DISCOVERY\n"
     ]
    }
   ],
   "source": [
    "print(\"Welcome to DISCOVERY\")"
   ]
  },
  {
   "cell_type": "markdown",
   "metadata": {},
   "source": [
    "Notice that **the quotes do not appear in the output**.  Instead, Python uses the quotes to know that the contents inside of the quotes are a  **string**.\n",
    "\n",
    "If you forget to add the quotes around text that is a string, Python will provide an error message that informs you it does not understand how to run the code you typed:"
   ]
  },
  {
   "cell_type": "code",
   "execution_count": 23,
   "metadata": {},
   "outputs": [
    {
     "name": "stdout",
     "output_type": "stream",
     "text": [
      "Welcome to DISCOVERY\n"
     ]
    }
   ],
   "source": [
    "print(\"Welcome to DISCOVERY\")"
   ]
  },
  {
   "attachments": {},
   "cell_type": "markdown",
   "metadata": {},
   "source": [
    "**Errors are what makes programming difficult and EVERYONE makes errors programming.**  You will see Professors Karle and Wade get errors in class, and that's even after programming for years!\n",
    "\n",
    "Errors happen when Python does not understand the code you typed.  Python will do its best to give you useful information in the error message, but the messages are often generic or confusing.  However, the more you get used to understanding the error message, the easier it is to begin to understand what is wrong."
   ]
  },
  {
   "cell_type": "markdown",
   "metadata": {},
   "source": [
    "## Emojis Are Strings As Well!\n",
    "\n",
    "Anything and everything that is not a number goes into a quotes and we will refer to these as **strings**.  This even includes emojis:"
   ]
  },
  {
   "cell_type": "code",
   "execution_count": 24,
   "metadata": {},
   "outputs": [
    {
     "name": "stdout",
     "output_type": "stream",
     "text": [
      "🎉\n"
     ]
    }
   ],
   "source": [
    "print(\"🎉\")"
   ]
  },
  {
   "attachments": {},
   "cell_type": "markdown",
   "metadata": {},
   "source": [
    "## Puzzle 3.1:\n",
    "\n",
    "Using the `print` function, print the **result** of the following two things on separate lines:\n",
    "- $(4 * 3)^2$\n",
    "- $8 - 3$"
   ]
  },
  {
   "cell_type": "code",
   "execution_count": 31,
   "metadata": {},
   "outputs": [
    {
     "data": {
      "text/plain": [
       "5"
      ]
     },
     "execution_count": 31,
     "metadata": {},
     "output_type": "execute_result"
    }
   ],
   "source": [
    "(4*3)**2\n",
    "8-3"
   ]
  },
  {
   "cell_type": "markdown",
   "metadata": {},
   "source": [
    "<hr style=\"color: #DD3403;\">"
   ]
  },
  {
   "attachments": {},
   "cell_type": "markdown",
   "metadata": {},
   "source": [
    "# Part 4. Names in Python\n",
    "\n",
    "*This section has been adopted from Berkeley's Data8: Lab \\#1, who we have partnered with in building Data Science courses here at UIUC!*\n",
    "\n",
    "In natural language, we have terminology that lets us quickly reference very complicated concepts. We don't say, \"That's a large slow mammal with brown fur and three toes!\" Instead, we just say, \"**SLOTH!**\"\n",
    "\n",
    "Similarly, an effective strategy for writing code is to **define names for data as we compute it**, like a lawyer would define terms for complex ideas at the start of a legal document to simplify the rest of the writing.\n",
    "\n",
    "In Python, we do this with assignment statements. An assignment statement has a name on the left side of an `=` sign and an expression to be evaluated on the right."
   ]
  },
  {
   "cell_type": "code",
   "execution_count": 2,
   "metadata": {},
   "outputs": [],
   "source": [
    "ten = (3 * 2) + 4"
   ]
  },
  {
   "cell_type": "markdown",
   "metadata": {},
   "source": [
    "When you run that cell, Python first evaluates the first line. It computes the value of the expression `(3 * 2) + 4`, which is the number 10. Then it gives that value the name `ten`. At that point, the code in the cell is done running.\n",
    "\n",
    "After you run that cell, the value 10 is bound to the name `ten`:"
   ]
  },
  {
   "cell_type": "code",
   "execution_count": 33,
   "metadata": {},
   "outputs": [
    {
     "data": {
      "text/plain": [
       "10"
      ]
     },
     "execution_count": 33,
     "metadata": {},
     "output_type": "execute_result"
    }
   ],
   "source": [
    "ten"
   ]
  },
  {
   "cell_type": "markdown",
   "metadata": {},
   "source": [
    "The statement `ten = (3 * 2) + 4` is not asserting that ten is already equal to `(3 * 2) + 4`, as we might expect by analogy with math notation. Rather, that line of code changes what `ten` means; it now refers to the value 10, whereas before it meant nothing at all."
   ]
  },
  {
   "attachments": {},
   "cell_type": "markdown",
   "metadata": {},
   "source": [
    "## Puzzle 4.1:\n",
    "\n",
    "Try writing code that uses a name (like `eleven`) that hasn't been assigned to anything.\n",
    "* Run the Cell (You should see an **ERROR** -- this is expected)."
   ]
  },
  {
   "cell_type": "code",
   "execution_count": 38,
   "metadata": {},
   "outputs": [
    {
     "data": {
      "text/plain": [
       "17"
      ]
     },
     "execution_count": 38,
     "metadata": {},
     "output_type": "execute_result"
    }
   ],
   "source": [
    "17"
   ]
  },
  {
   "attachments": {},
   "cell_type": "markdown",
   "metadata": {},
   "source": [
    "## Puzzle 4.2:\n",
    "\n",
    "Now, define the value of the name that gave you an error:"
   ]
  },
  {
   "cell_type": "code",
   "execution_count": 37,
   "metadata": {},
   "outputs": [
    {
     "data": {
      "text/plain": [
       "0"
      ]
     },
     "execution_count": 37,
     "metadata": {},
     "output_type": "execute_result"
    }
   ],
   "source": [
    "favoriteNumber2"
   ]
  },
  {
   "attachments": {},
   "cell_type": "markdown",
   "metadata": {},
   "source": [
    "## Puzzle 4.3:\n",
    "\n",
    "Finally, try using that name again:"
   ]
  },
  {
   "cell_type": "code",
   "execution_count": 39,
   "metadata": {},
   "outputs": [
    {
     "data": {
      "text/plain": [
       "0"
      ]
     },
     "execution_count": 39,
     "metadata": {},
     "output_type": "execute_result"
    }
   ],
   "source": [
    "favoriteNumber2"
   ]
  },
  {
   "cell_type": "markdown",
   "metadata": {},
   "source": [
    "## Common Patterns with Names:\n",
    "\n",
    "A common pattern in Jupyter notebooks is to assign a value to a name and then immediately evaluate the name in the last line of the cell so that the value is displayed as output:"
   ]
  },
  {
   "cell_type": "code",
   "execution_count": 1,
   "metadata": {},
   "outputs": [
    {
     "data": {
      "text/plain": [
       "3.1415929203539825"
      ]
     },
     "execution_count": 1,
     "metadata": {},
     "output_type": "execute_result"
    }
   ],
   "source": [
    "close_to_pi = 355/113\n",
    "close_to_pi"
   ]
  },
  {
   "cell_type": "markdown",
   "metadata": {},
   "source": [
    "Another common pattern is that a series of lines in a single cell will build up a complex computation in stages, naming the intermediate results."
   ]
  },
  {
   "cell_type": "code",
   "execution_count": 41,
   "metadata": {},
   "outputs": [
    {
     "data": {
      "text/plain": [
       "20160"
      ]
     },
     "execution_count": 41,
     "metadata": {},
     "output_type": "execute_result"
    }
   ],
   "source": [
    "paycheck = 840\n",
    "monthly_salary = 2 * paycheck\n",
    "number_of_months_in_a_year = 12\n",
    "yearly_salary = number_of_months_in_a_year * monthly_salary\n",
    "yearly_salary"
   ]
  },
  {
   "cell_type": "markdown",
   "metadata": {},
   "source": [
    "Names in Python can have letters (upper- and lower-case letters are both okay and count as different letters), underscores, and numbers.  There are a few rules:\n",
    "- The first character can't be a number (otherwise a name might look like a number).\n",
    "- Names can't contain spaces, since spaces are used to separate pieces of code from each other.\n",
    "\n",
    "Other than those rules, what you name something doesn't matter to Python.  For example, this cell does the same thing as the above cell to compute a yearly salary, except everything has a different name (and loses all context):"
   ]
  },
  {
   "cell_type": "code",
   "execution_count": 43,
   "metadata": {},
   "outputs": [
    {
     "data": {
      "text/plain": [
       "20160"
      ]
     },
     "execution_count": 43,
     "metadata": {},
     "output_type": "execute_result"
    }
   ],
   "source": [
    "gym_membership = 840\n",
    "monthly_cost = 2 * gym_membership\n",
    "number_of_months_in_a_year = 12\n",
    "year_membership= number_of_months_in_a_year * monthly_cost\n",
    "year_membership"
   ]
  },
  {
   "cell_type": "markdown",
   "metadata": {},
   "source": [
    "Names are **extremely important** for making your code readable to yourself and others. The cell above is shorter, but it's totally useless without an explanation of what it does."
   ]
  },
  {
   "attachments": {},
   "cell_type": "markdown",
   "metadata": {},
   "source": [
    "## Puzzle 4.4:\n",
    "\n",
    "Assign the name `seconds_in_a_decade` to the number of seconds between midnight on January 1, 2010 and midnight on January 1, 2020.\n",
    "\n",
    "- You will want to think about how this is computed before you start writing code.  Pencil and paper works great!\n",
    "- Any line of code in Python that begins with an `#` is a comment and is ignored by Python.  We have added some comments to help you out here.\n",
    "\n",
    "You **MUST** use several variables in this calculation.  Simply having the final number will not earn you any points."
   ]
  },
  {
   "cell_type": "code",
   "execution_count": 47,
   "metadata": {},
   "outputs": [
    {
     "data": {
      "text/plain": [
       "5256000"
      ]
     },
     "execution_count": 47,
     "metadata": {},
     "output_type": "execute_result"
    }
   ],
   "source": [
    "# Change the next few lines so that you compute the number of\n",
    "# seconds in a decade and assign that number the name\n",
    "# seconds_in_a_decade.\n",
    "#\n",
    "# (You will want to add other names to help you calculate\n",
    "# this value.)\n",
    "years_in_a_decade = 10\n",
    "days_in_a_year= 365\n",
    "hours_in_a_day=24 \n",
    "minutes_in_a_day=60\n",
    "seconds_in_a_decade =315360000 \n",
    "\n",
    "# We've put this line in this cell so that it will print\n",
    "# the value you've given to seconds_in_a_decade when you\n",
    "# run it.  You don't need to change this.\n",
    "seconds_in_a_decade=years_in_a_decade*days_in_a_year*hours_in_a_day*minutes_in_a_day\n",
    "seconds_in_a_decade\n"
   ]
  },
  {
   "cell_type": "markdown",
   "metadata": {},
   "source": [
    "**Extra Credit**: Is your answer as exact as possible?  You can earn +1 EC point for working with your group and making sure to account for the exact number of seconds! :)"
   ]
  },
  {
   "cell_type": "markdown",
   "metadata": {},
   "source": [
    "<hr style=\"color: #DD3403;\">"
   ]
  },
  {
   "cell_type": "code",
   "execution_count": null,
   "metadata": {
    "vscode": {
     "languageId": "markdown"
    }
   },
   "outputs": [],
   "source": [
    "## Submit Your Work!\n",
    "\n",
    "You're almost done -- congratulations!\n",
    "\n",
    "You need to do two more things:\n",
    "\n",
    "1.  ⚠️ **Make certain to save your work.** ⚠️ To do this, go to **File => Save All**\n",
    "\n",
    "2.  After you have saved, close this notebook file (but not VS Code) and follow the webpage instructions to commit this lab to your Git repository!\n",
    "\n",
    "3. Your TA will grade your submission and provide you feedback after the lab is due. "
   ]
  }
 ],
 "metadata": {
  "kernelspec": {
   "display_name": "Python 3",
   "language": "python",
   "name": "python3"
  },
  "language_info": {
   "codemirror_mode": {
    "name": "ipython",
    "version": 3
   },
   "file_extension": ".py",
   "mimetype": "text/x-python",
   "name": "python",
   "nbconvert_exporter": "python",
   "pygments_lexer": "ipython3",
   "version": "3.13.7"
  }
 },
 "nbformat": 4,
 "nbformat_minor": 2
}
